{
 "cells": [
  {
   "attachments": {},
   "cell_type": "markdown",
   "metadata": {},
   "source": [
    "# Module 12 Challenge\n",
    "## Deliverable 2: Scrape and Analyze Mars Weather Data"
   ]
  },
  {
   "cell_type": "code",
   "execution_count": null,
   "metadata": {},
   "outputs": [],
   "source": [
    "# Import relevant libraries\n",
    "from splinter import Browser\n",
    "from bs4 import BeautifulSoup\n",
    "import matplotlib.pyplot as plt\n",
    "import pandas as pd"
   ]
  },
  {
   "cell_type": "code",
   "execution_count": null,
   "metadata": {},
   "outputs": [],
   "source": [
    "browser = Browser('chrome')"
   ]
  },
  {
   "attachments": {},
   "cell_type": "markdown",
   "metadata": {},
   "source": [
    "### Step 1: Visit the Website\n",
    "\n",
    "Use automated browsing to visit the [Mars Temperature Data Site](https://static.bc-edx.com/data/web/mars_facts/temperature.html). Inspect the page to identify which elements to scrape.\n",
    "\n",
    "   > **Hint** To identify which elements to scrape, you might want to inspect the page by using Chrome DevTools to discover whether the table contains usable classes.\n"
   ]
  },
  {
   "cell_type": "code",
   "execution_count": null,
   "metadata": {},
   "outputs": [],
   "source": [
    "# Visit the website\n",
    "# https://static.bc-edx.com/data/web/mars_facts/temperature.html\n",
    "url = \"https://static.bc-edx.com/data/web/mars_facts/temperature.html\"\n",
    "browser.visit(url)"
   ]
  },
  {
   "attachments": {},
   "cell_type": "markdown",
   "metadata": {},
   "source": [
    "### Step 2: Scrape the Table\n",
    "\n",
    "Create a Beautiful Soup object and use it to scrape the data in the HTML table.\n",
    "\n",
    "Note that this can also be achieved by using the Pandas `read_html` function. However, use Beautiful Soup here to continue sharpening your web scraping skills."
   ]
  },
  {
   "cell_type": "code",
   "execution_count": null,
   "metadata": {},
   "outputs": [],
   "source": [
    "# Create a Beautiful Soup Object\n",
    "html = browser.html\n",
    "bsobject = soup(html, 'html.parser')"
   ]
  },
  {
   "cell_type": "code",
   "execution_count": null,
   "metadata": {},
   "outputs": [],
   "source": [
    "# Extract all rows of data\n",
    "HTML_table = bsobject.find('tbody')\n",
    "Rows = HTML_table.find_all('tr', class_='data-row')"
   ]
  },
  {
   "attachments": {},
   "cell_type": "markdown",
   "metadata": {},
   "source": [
    "### Step 3: Store the Data\n",
    "\n",
    "Assemble the scraped data into a Pandas DataFrame. The columns should have the same headings as the table on the website. Here’s an explanation of the column headings:\n",
    "\n",
    "* `id`: the identification number of a single transmission from the Curiosity rover\n",
    "* `terrestrial_date`: the date on Earth\n",
    "* `sol`: the number of elapsed sols (Martian days) since Curiosity landed on Mars\n",
    "* `ls`: the solar longitude\n",
    "* `month`: the Martian month\n",
    "* `min_temp`: the minimum temperature, in Celsius, of a single Martian day (sol)\n",
    "* `pressure`: The atmospheric pressure at Curiosity's location"
   ]
  },
  {
   "cell_type": "code",
   "execution_count": null,
   "metadata": {},
   "outputs": [],
   "source": [
    "# Create an empty list\n",
    "id = []\n",
    "terrestrial_date = []\n",
    "sol = []\n",
    "ls = []\n",
    "month = []\n",
    "min_temp = []\n",
    "pressure = []\n",
    "\n",
    "# Loop through the scraped data to create a list of rows\n",
    "for _ in Rows:\n",
    "    id.append(_.find_all('td')[0].text)\n",
    "    terrestrial_date.append(_.find_all('td')[1].text)\n",
    "    sol.append(_.find_all('td')[2].text)\n",
    "    ls.append(_.find_all('td')[3].text)\n",
    "    month.append(_.find_all('td')[4].text)\n",
    "    min_temp.append(_.find_all('td')[5].text)\n",
    "    pressure.append(_.find_all('td')[6].text)"
   ]
  },
  {
   "cell_type": "code",
   "execution_count": null,
   "metadata": {},
   "outputs": [],
   "source": [
    "# Create a Pandas DataFrame by using the list of rows and a list of the column names\n",
    "Dict = {\"ID\" : id, 'Terrestrial_Date' : terrestrial_date, 'Sol' : sol, 'LS' : ls, 'Mars_Months' : month, 'Min_Temp' : min_temp, 'Pressure' : pressure}\n",
    "Mars_pd = pd.DataFrame(data = Dict)"
   ]
  },
  {
   "cell_type": "code",
   "execution_count": null,
   "metadata": {},
   "outputs": [],
   "source": [
    "# Confirm DataFrame was created successfully\n",
    "Mars_pd.head()"
   ]
  },
  {
   "attachments": {},
   "cell_type": "markdown",
   "metadata": {},
   "source": [
    "### Step 4: Prepare Data for Analysis\n",
    "\n",
    "Examine the data types that are currently associated with each column. If necessary, cast (or convert) the data to the appropriate `datetime`, `int`, or `float` data types.\n",
    "\n",
    "  > **Hint** You can use the Pandas `astype` and `to_datetime` methods to accomplish this task.\n"
   ]
  },
  {
   "cell_type": "code",
   "execution_count": null,
   "metadata": {},
   "outputs": [],
   "source": [
    "# Examine data type of each column\n",
    "Mars_pd['ID'] = pd.to_numeric(Mars_pd.ID)\n",
    "Mars_pd['Terrestrial_Date'] = pd.to_datetime(Mars_pd.Terrestrial_Date)\n",
    "Mars_pd['Sol'] = pd.to_numeric(Mars_pd.Sol)\n",
    "Mars_pd['LS'] = pd.to_numeric(Mars_pd.LS)\n",
    "Mars_pd['Mars_Months'] = pd.to_numeric(Mars_pd.Mars_Months)\n",
    "Mars_pd['Min_Temp'] = pd.to_numeric(Mars_pd.Min_Temp)\n",
    "Mars_pd['Pressure'] = pd.to_numeric(Mars_pd.Pressure)"
   ]
  },
  {
   "cell_type": "code",
   "execution_count": null,
   "metadata": {},
   "outputs": [],
   "source": [
    "# Change data types for data analysis\n",
    "Mars_pd['ID'] = pd.to_object(Mars_pd.ID)\n",
    "Mars_pd['Terrestrial_Date'] = pd.to_datetime64(Mars_pd.Terrestrial_Date)\n",
    "Mars_pd['Sol'] = pd.to_int64(Mars_pd.Sol)\n",
    "Mars_pd['LS'] = pd.to_int64(Mars_pd.LS)\n",
    "Mars_pd['Mars_Months'] = pd.to_int64(Mars_pd.Mars_Months)\n",
    "Mars_pd['Min_Temp'] = pd.to_float64(Mars_pd.Min_Temp)\n",
    "Mars_pd['Pressure'] = pd.to_float64(Mars_pd.Pressure)"
   ]
  },
  {
   "cell_type": "code",
   "execution_count": null,
   "metadata": {},
   "outputs": [],
   "source": [
    "# Confirm type changes were successful by examining data types again\n",
    "Mars_pd.head()"
   ]
  },
  {
   "attachments": {},
   "cell_type": "markdown",
   "metadata": {},
   "source": [
    "### Step 5: Analyze the Data\n",
    "\n",
    "Analyze your dataset by using Pandas functions to answer the following questions:\n",
    "\n",
    "1. How many months exist on Mars?\n",
    "2. How many Martian (and not Earth) days worth of data exist in the scraped dataset?\n",
    "3. What are the coldest and the warmest months on Mars (at the location of Curiosity)? To answer this question:\n",
    "    * Find the average the minimum daily temperature for all of the months.\n",
    "    * Plot the results as a bar chart.\n",
    "4. Which months have the lowest and the highest atmospheric pressure on Mars? To answer this question:\n",
    "    * Find the average the daily atmospheric pressure of all the months.\n",
    "    * Plot the results as a bar chart.\n",
    "5. About how many terrestrial (Earth) days exist in a Martian year? To answer this question:\n",
    "    * Consider how many days elapse on Earth in the time that Mars circles the Sun once.\n",
    "    * Visually estimate the result by plotting the daily minimum temperature.\n"
   ]
  },
  {
   "cell_type": "code",
   "execution_count": null,
   "metadata": {},
   "outputs": [],
   "source": [
    "# 1. How many months are there on Mars?\n",
    "\n",
    "Math = Mars_pd['Mars_Months'].max()\n",
    "\n",
    "print('There are ' + str(Math) + ' months in one Mars year.')"
   ]
  },
  {
   "cell_type": "code",
   "execution_count": null,
   "metadata": {},
   "outputs": [],
   "source": [
    "# 2. How many Martian days' worth of data are there?\n",
    "Martian_Days = len(pd.unique(Mars_pd['Sol']))\n",
    "print('There are ' + str(Martian_Days) + \" martian days worth of data.\")"
   ]
  },
  {
   "cell_type": "code",
   "execution_count": null,
   "metadata": {},
   "outputs": [],
   "source": [
    "# 3. What is the average low temperature by month?\n",
    "mTemp = {}\n",
    "for _ in range(0, int(Math)):\n",
    "    mTemp[_] = Mars_pd[Mars_pd['Mars_Months'] == (1+_)]\n",
    "\n",
    "MonthTempAvg = []\n",
    "for _ in range(0, int(Math)):\n",
    "    MonthTempAvg.append(mTemp[_]['Min_Temp'].mean())\n",
    "\n",
    "print('The average low temperature by month is ' + str(sum(MonthTempAvg)/len(MonthTempAvg)))"
   ]
  },
  {
   "cell_type": "code",
   "execution_count": null,
   "metadata": {},
   "outputs": [],
   "source": [
    "# Plot the average temperature by month\n",
    "months = []\n",
    "for _ in range(1, 13):\n",
    "    months.append(_)\n",
    "\n",
    "plt.plot(months, MonthTempAvg)\n",
    "plt.xlabel('Mars Months')\n",
    "plt.ylabel('Temperature')\n",
    "plt.show()"
   ]
  },
  {
   "cell_type": "code",
   "execution_count": null,
   "metadata": {},
   "outputs": [],
   "source": [
    "# Identify the coldest and hottest months in Curiosity's location\n",
    "#Coldest Month\n",
    "x = min(MonthTempAvg)\n",
    "Coldest_Month = MonthTempAvg.index(x)\n",
    "\n",
    "#Hottest Month\n",
    "y = max(MonthTempAvg)\n",
    "Hotest_Month = MonthTempAvg.index(y)\n",
    "\n",
    "\n",
    "print('The Coldest month is: month', Coldest_Month,'at', x,\". The Hottest month is: month\", Hotest_Month, 'at', y, '.')"
   ]
  },
  {
   "cell_type": "code",
   "execution_count": null,
   "metadata": {},
   "outputs": [],
   "source": [
    "#Plot bar chart for hottest month in Curiosity's Location\n",
    "plt.figure(figsize=(10, 6))\n",
    "plt.bar(coldest_month['Month'], coldest_month['Temperature'], color='blue', label='Coldest Month')\n",
    "plt.bar(hottest_month['Month'], hottest_month['Temperature'], color='red', label='Hottest Month')\n",
    "plt.xlabel('Month')\n",
    "plt.ylabel('Temperature')\n",
    "plt.title(\"Hottest and Coldest Months\")\n",
    "plt.ticks(rotation=45)\n",
    "plt.legend\n",
    "plt.show()"
   ]
  },
  {
   "cell_type": "code",
   "execution_count": null,
   "metadata": {},
   "outputs": [],
   "source": []
  },
  {
   "cell_type": "code",
   "execution_count": null,
   "metadata": {},
   "outputs": [],
   "source": [
    "# 4. Average pressure by Martian month\n",
    "mPres = {}\n",
    "for _ in range(0, int(Math)):\n",
    "    mPres[_] = Mars_pd[Mars_pd['Mars_Months'] == (1+_)]\n",
    "MonthPresAvg = []\n",
    "for _ in range(0, int(Maths)):\n",
    "    MonthPresAvg.append(mPres[_]['Pressure'].mean())\n",
    "\n",
    "MonthPresAvg"
   ]
  },
  {
   "cell_type": "code",
   "execution_count": null,
   "metadata": {},
   "outputs": [],
   "source": [
    "# Plot the average pressure by month\n",
    "plt.plot(months, MonthPresAvg, kind='bar', color='green')\n",
    "plt.xlabel('Month')\n",
    "plt.ylabel('Average Pressure')\n",
    "plt.title('Average Pressure by Month')\n",
    "plt.show()"
   ]
  },
  {
   "cell_type": "code",
   "execution_count": null,
   "metadata": {},
   "outputs": [],
   "source": [
    "# 5. How many terrestrial (earth) days are there in a Martian year?\n",
    "print(Mars_pd[Mars_pd['LS'] == 0])\n",
    "plt.plot(Mars_pd['Terrestrial_Date'], Mars_pd['LS'])\n",
    "plt.xlabel('Earth Years')\n",
    "plt.ylabel('Solar Longitude')\n",
    "plt.show()\n",
    "\n",
    "a = Mars_pd.iloc[925, 2] - Mars_pd.iloc[304, 2]\n",
    "print('We can see the Solar Longitude is at 0 every ' + str(a) + ' days. This shows in the plot, with a repeating time period that looks slightly less than 2 years. ')\n"
   ]
  },
  {
   "attachments": {},
   "cell_type": "markdown",
   "metadata": {},
   "source": [
    "On average, the third month has the coldest minimum temperature on Mars, and the eighth month is the warmest. But it is always very cold there in human terms!\n",
    "\n"
   ]
  },
  {
   "attachments": {},
   "cell_type": "markdown",
   "metadata": {},
   "source": [
    "Atmospheric pressure is, on average, lowest in the sixth month and highest in the ninth."
   ]
  },
  {
   "attachments": {},
   "cell_type": "markdown",
   "metadata": {},
   "source": [
    "The distance from peak to peak is roughly 1425-750, or 675 days. A year on Mars appears to be about 675 days from the plot. Internet search confirms that a Mars year is equivalent to 687 earth days."
   ]
  },
  {
   "attachments": {},
   "cell_type": "markdown",
   "metadata": {},
   "source": [
    "### Step 6: Save the Data\n",
    "\n",
    "Export the DataFrame to a CSV file."
   ]
  },
  {
   "cell_type": "code",
   "execution_count": null,
   "metadata": {},
   "outputs": [],
   "source": [
    "# Write the data to a CSV\n",
    "Mars_pd.to_csv('../CSV_output/CSVData.csv')"
   ]
  },
  {
   "cell_type": "code",
   "execution_count": null,
   "metadata": {},
   "outputs": [],
   "source": [
    "browser.quit()"
   ]
  },
  {
   "cell_type": "code",
   "execution_count": null,
   "metadata": {},
   "outputs": [],
   "source": []
  }
 ],
 "metadata": {
  "kernelspec": {
   "display_name": "Python 3 (ipykernel)",
   "language": "python",
   "name": "python3"
  },
  "language_info": {
   "codemirror_mode": {
    "name": "ipython",
    "version": 3
   },
   "file_extension": ".py",
   "mimetype": "text/x-python",
   "name": "python",
   "nbconvert_exporter": "python",
   "pygments_lexer": "ipython3",
   "version": "3.10.14"
  },
  "vscode": {
   "interpreter": {
    "hash": "31f2aee4e71d21fbe5cf8b01ff0e069b9275f58929596ceb00d14d90e3e16cd6"
   }
  }
 },
 "nbformat": 4,
 "nbformat_minor": 4
}
